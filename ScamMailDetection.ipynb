{
  "nbformat": 4,
  "nbformat_minor": 0,
  "metadata": {
    "colab": {
      "provenance": [],
      "authorship_tag": "ABX9TyMrDEdClDCX7/TKvrEIQu4M",
      "include_colab_link": true
    },
    "kernelspec": {
      "name": "python3",
      "display_name": "Python 3"
    },
    "language_info": {
      "name": "python"
    }
  },
  "cells": [
    {
      "cell_type": "markdown",
      "metadata": {
        "id": "view-in-github",
        "colab_type": "text"
      },
      "source": [
        "<a href=\"https://colab.research.google.com/github/ying2212/Spam-Mail-Prediction/blob/main/ScamMailDetection.ipynb\" target=\"_parent\"><img src=\"https://colab.research.google.com/assets/colab-badge.svg\" alt=\"Open In Colab\"/></a>"
      ]
    },
    {
      "cell_type": "markdown",
      "source": [
        "Importing the Dependencies"
      ],
      "metadata": {
        "id": "kkciuP3rkzva"
      }
    },
    {
      "cell_type": "code",
      "source": [
        "import numpy as np\n",
        "import pandas as pd\n",
        "import chardet\n",
        "from sklearn.model_selection import train_test_split\n",
        "from sklearn.feature_extraction.text import TfidfVectorizer\n",
        "from sklearn.linear_model import LogisticRegression\n",
        "from sklearn.metrics import accuracy_score"
      ],
      "metadata": {
        "id": "Dvx6dJzHk2NK"
      },
      "execution_count": 42,
      "outputs": []
    },
    {
      "cell_type": "markdown",
      "source": [
        "Data Collection & Pre-Processing"
      ],
      "metadata": {
        "id": "axhb7dpRm-Sq"
      }
    },
    {
      "cell_type": "code",
      "source": [
        "# loading the data from csv file to a pandas Dataframe\n",
        "raw_mail_data = pd.read_csv('/content/fradulentEmails.csv')"
      ],
      "metadata": {
        "id": "MBEUMSL89eDu"
      },
      "execution_count": 74,
      "outputs": []
    },
    {
      "cell_type": "code",
      "source": [
        "print(raw_mail_data)"
      ],
      "metadata": {
        "colab": {
          "base_uri": "https://localhost:8080/"
        },
        "id": "TpnAKiAlOQdy",
        "outputId": "8bc94871-3b68-48b8-8f48-5db3a44d5196"
      },
      "execution_count": 75,
      "outputs": [
        {
          "output_type": "stream",
          "name": "stdout",
          "text": [
            "     Category                                               Body\n",
            "0        Scam         Return-Path: <james_ngola2002@maktoob.com>\n",
            "1        Scam                             X-Sieve: cmu-sieve 2.0\n",
            "2        Scam         Return-Path: <james_ngola2002@maktoob.com>\n",
            "3        Scam    Message-Id: <200210310241.g9V2fNm6028281@cs.CU>\n",
            "4        Scam  From: \"MR. JAMES NGOLA.\" <james_ngola2002@makt...\n",
            "...       ...                                                ...\n",
            "3856     Scam  My name is Mr=2E Jonathan Mokoena=2C the Under...\n",
            "3857     Scam  Intergration at the Specialized Technical Comm...\n",
            "3858     Scam  Union =28AU=29=2C formerly Organization of Afr...\n",
            "3859     Scam  aware of the transformation of the OAU to AU=2...\n",
            "3860     Scam  build a new united Africa modelled on the patt...\n",
            "\n",
            "[3861 rows x 2 columns]\n"
          ]
        }
      ]
    },
    {
      "cell_type": "code",
      "source": [
        "# replace the null values with a null string\n",
        "mail_data = raw_mail_data.where((pd.notnull(raw_mail_data)),'')"
      ],
      "metadata": {
        "id": "4GW1EcX19iZE"
      },
      "execution_count": 76,
      "outputs": []
    },
    {
      "cell_type": "code",
      "source": [
        "# printing the first 5 rows of the dataframe\n",
        "mail_data.head()"
      ],
      "metadata": {
        "colab": {
          "base_uri": "https://localhost:8080/",
          "height": 206
        },
        "id": "oLCGCRlM9nvu",
        "outputId": "03d53d46-0525-497a-d67b-535f2f2e65b2"
      },
      "execution_count": 77,
      "outputs": [
        {
          "output_type": "execute_result",
          "data": {
            "text/plain": [
              "  Category                                               Body\n",
              "0     Scam         Return-Path: <james_ngola2002@maktoob.com>\n",
              "1     Scam                             X-Sieve: cmu-sieve 2.0\n",
              "2     Scam         Return-Path: <james_ngola2002@maktoob.com>\n",
              "3     Scam    Message-Id: <200210310241.g9V2fNm6028281@cs.CU>\n",
              "4     Scam  From: \"MR. JAMES NGOLA.\" <james_ngola2002@makt..."
            ],
            "text/html": [
              "\n",
              "  <div id=\"df-92097371-1a6e-4b97-a47f-dc290624b124\" class=\"colab-df-container\">\n",
              "    <div>\n",
              "<style scoped>\n",
              "    .dataframe tbody tr th:only-of-type {\n",
              "        vertical-align: middle;\n",
              "    }\n",
              "\n",
              "    .dataframe tbody tr th {\n",
              "        vertical-align: top;\n",
              "    }\n",
              "\n",
              "    .dataframe thead th {\n",
              "        text-align: right;\n",
              "    }\n",
              "</style>\n",
              "<table border=\"1\" class=\"dataframe\">\n",
              "  <thead>\n",
              "    <tr style=\"text-align: right;\">\n",
              "      <th></th>\n",
              "      <th>Category</th>\n",
              "      <th>Body</th>\n",
              "    </tr>\n",
              "  </thead>\n",
              "  <tbody>\n",
              "    <tr>\n",
              "      <th>0</th>\n",
              "      <td>Scam</td>\n",
              "      <td>Return-Path: &lt;james_ngola2002@maktoob.com&gt;</td>\n",
              "    </tr>\n",
              "    <tr>\n",
              "      <th>1</th>\n",
              "      <td>Scam</td>\n",
              "      <td>X-Sieve: cmu-sieve 2.0</td>\n",
              "    </tr>\n",
              "    <tr>\n",
              "      <th>2</th>\n",
              "      <td>Scam</td>\n",
              "      <td>Return-Path: &lt;james_ngola2002@maktoob.com&gt;</td>\n",
              "    </tr>\n",
              "    <tr>\n",
              "      <th>3</th>\n",
              "      <td>Scam</td>\n",
              "      <td>Message-Id: &lt;200210310241.g9V2fNm6028281@cs.CU&gt;</td>\n",
              "    </tr>\n",
              "    <tr>\n",
              "      <th>4</th>\n",
              "      <td>Scam</td>\n",
              "      <td>From: \"MR. JAMES NGOLA.\" &lt;james_ngola2002@makt...</td>\n",
              "    </tr>\n",
              "  </tbody>\n",
              "</table>\n",
              "</div>\n",
              "    <div class=\"colab-df-buttons\">\n",
              "\n",
              "  <div class=\"colab-df-container\">\n",
              "    <button class=\"colab-df-convert\" onclick=\"convertToInteractive('df-92097371-1a6e-4b97-a47f-dc290624b124')\"\n",
              "            title=\"Convert this dataframe to an interactive table.\"\n",
              "            style=\"display:none;\">\n",
              "\n",
              "  <svg xmlns=\"http://www.w3.org/2000/svg\" height=\"24px\" viewBox=\"0 -960 960 960\">\n",
              "    <path d=\"M120-120v-720h720v720H120Zm60-500h600v-160H180v160Zm220 220h160v-160H400v160Zm0 220h160v-160H400v160ZM180-400h160v-160H180v160Zm440 0h160v-160H620v160ZM180-180h160v-160H180v160Zm440 0h160v-160H620v160Z\"/>\n",
              "  </svg>\n",
              "    </button>\n",
              "\n",
              "  <style>\n",
              "    .colab-df-container {\n",
              "      display:flex;\n",
              "      gap: 12px;\n",
              "    }\n",
              "\n",
              "    .colab-df-convert {\n",
              "      background-color: #E8F0FE;\n",
              "      border: none;\n",
              "      border-radius: 50%;\n",
              "      cursor: pointer;\n",
              "      display: none;\n",
              "      fill: #1967D2;\n",
              "      height: 32px;\n",
              "      padding: 0 0 0 0;\n",
              "      width: 32px;\n",
              "    }\n",
              "\n",
              "    .colab-df-convert:hover {\n",
              "      background-color: #E2EBFA;\n",
              "      box-shadow: 0px 1px 2px rgba(60, 64, 67, 0.3), 0px 1px 3px 1px rgba(60, 64, 67, 0.15);\n",
              "      fill: #174EA6;\n",
              "    }\n",
              "\n",
              "    .colab-df-buttons div {\n",
              "      margin-bottom: 4px;\n",
              "    }\n",
              "\n",
              "    [theme=dark] .colab-df-convert {\n",
              "      background-color: #3B4455;\n",
              "      fill: #D2E3FC;\n",
              "    }\n",
              "\n",
              "    [theme=dark] .colab-df-convert:hover {\n",
              "      background-color: #434B5C;\n",
              "      box-shadow: 0px 1px 3px 1px rgba(0, 0, 0, 0.15);\n",
              "      filter: drop-shadow(0px 1px 2px rgba(0, 0, 0, 0.3));\n",
              "      fill: #FFFFFF;\n",
              "    }\n",
              "  </style>\n",
              "\n",
              "    <script>\n",
              "      const buttonEl =\n",
              "        document.querySelector('#df-92097371-1a6e-4b97-a47f-dc290624b124 button.colab-df-convert');\n",
              "      buttonEl.style.display =\n",
              "        google.colab.kernel.accessAllowed ? 'block' : 'none';\n",
              "\n",
              "      async function convertToInteractive(key) {\n",
              "        const element = document.querySelector('#df-92097371-1a6e-4b97-a47f-dc290624b124');\n",
              "        const dataTable =\n",
              "          await google.colab.kernel.invokeFunction('convertToInteractive',\n",
              "                                                    [key], {});\n",
              "        if (!dataTable) return;\n",
              "\n",
              "        const docLinkHtml = 'Like what you see? Visit the ' +\n",
              "          '<a target=\"_blank\" href=https://colab.research.google.com/notebooks/data_table.ipynb>data table notebook</a>'\n",
              "          + ' to learn more about interactive tables.';\n",
              "        element.innerHTML = '';\n",
              "        dataTable['output_type'] = 'display_data';\n",
              "        await google.colab.output.renderOutput(dataTable, element);\n",
              "        const docLink = document.createElement('div');\n",
              "        docLink.innerHTML = docLinkHtml;\n",
              "        element.appendChild(docLink);\n",
              "      }\n",
              "    </script>\n",
              "  </div>\n",
              "\n",
              "\n",
              "<div id=\"df-ee7c81d8-1250-42b2-b7cd-6d25a882960c\">\n",
              "  <button class=\"colab-df-quickchart\" onclick=\"quickchart('df-ee7c81d8-1250-42b2-b7cd-6d25a882960c')\"\n",
              "            title=\"Suggest charts\"\n",
              "            style=\"display:none;\">\n",
              "\n",
              "<svg xmlns=\"http://www.w3.org/2000/svg\" height=\"24px\"viewBox=\"0 0 24 24\"\n",
              "     width=\"24px\">\n",
              "    <g>\n",
              "        <path d=\"M19 3H5c-1.1 0-2 .9-2 2v14c0 1.1.9 2 2 2h14c1.1 0 2-.9 2-2V5c0-1.1-.9-2-2-2zM9 17H7v-7h2v7zm4 0h-2V7h2v10zm4 0h-2v-4h2v4z\"/>\n",
              "    </g>\n",
              "</svg>\n",
              "  </button>\n",
              "\n",
              "<style>\n",
              "  .colab-df-quickchart {\n",
              "      --bg-color: #E8F0FE;\n",
              "      --fill-color: #1967D2;\n",
              "      --hover-bg-color: #E2EBFA;\n",
              "      --hover-fill-color: #174EA6;\n",
              "      --disabled-fill-color: #AAA;\n",
              "      --disabled-bg-color: #DDD;\n",
              "  }\n",
              "\n",
              "  [theme=dark] .colab-df-quickchart {\n",
              "      --bg-color: #3B4455;\n",
              "      --fill-color: #D2E3FC;\n",
              "      --hover-bg-color: #434B5C;\n",
              "      --hover-fill-color: #FFFFFF;\n",
              "      --disabled-bg-color: #3B4455;\n",
              "      --disabled-fill-color: #666;\n",
              "  }\n",
              "\n",
              "  .colab-df-quickchart {\n",
              "    background-color: var(--bg-color);\n",
              "    border: none;\n",
              "    border-radius: 50%;\n",
              "    cursor: pointer;\n",
              "    display: none;\n",
              "    fill: var(--fill-color);\n",
              "    height: 32px;\n",
              "    padding: 0;\n",
              "    width: 32px;\n",
              "  }\n",
              "\n",
              "  .colab-df-quickchart:hover {\n",
              "    background-color: var(--hover-bg-color);\n",
              "    box-shadow: 0 1px 2px rgba(60, 64, 67, 0.3), 0 1px 3px 1px rgba(60, 64, 67, 0.15);\n",
              "    fill: var(--button-hover-fill-color);\n",
              "  }\n",
              "\n",
              "  .colab-df-quickchart-complete:disabled,\n",
              "  .colab-df-quickchart-complete:disabled:hover {\n",
              "    background-color: var(--disabled-bg-color);\n",
              "    fill: var(--disabled-fill-color);\n",
              "    box-shadow: none;\n",
              "  }\n",
              "\n",
              "  .colab-df-spinner {\n",
              "    border: 2px solid var(--fill-color);\n",
              "    border-color: transparent;\n",
              "    border-bottom-color: var(--fill-color);\n",
              "    animation:\n",
              "      spin 1s steps(1) infinite;\n",
              "  }\n",
              "\n",
              "  @keyframes spin {\n",
              "    0% {\n",
              "      border-color: transparent;\n",
              "      border-bottom-color: var(--fill-color);\n",
              "      border-left-color: var(--fill-color);\n",
              "    }\n",
              "    20% {\n",
              "      border-color: transparent;\n",
              "      border-left-color: var(--fill-color);\n",
              "      border-top-color: var(--fill-color);\n",
              "    }\n",
              "    30% {\n",
              "      border-color: transparent;\n",
              "      border-left-color: var(--fill-color);\n",
              "      border-top-color: var(--fill-color);\n",
              "      border-right-color: var(--fill-color);\n",
              "    }\n",
              "    40% {\n",
              "      border-color: transparent;\n",
              "      border-right-color: var(--fill-color);\n",
              "      border-top-color: var(--fill-color);\n",
              "    }\n",
              "    60% {\n",
              "      border-color: transparent;\n",
              "      border-right-color: var(--fill-color);\n",
              "    }\n",
              "    80% {\n",
              "      border-color: transparent;\n",
              "      border-right-color: var(--fill-color);\n",
              "      border-bottom-color: var(--fill-color);\n",
              "    }\n",
              "    90% {\n",
              "      border-color: transparent;\n",
              "      border-bottom-color: var(--fill-color);\n",
              "    }\n",
              "  }\n",
              "</style>\n",
              "\n",
              "  <script>\n",
              "    async function quickchart(key) {\n",
              "      const quickchartButtonEl =\n",
              "        document.querySelector('#' + key + ' button');\n",
              "      quickchartButtonEl.disabled = true;  // To prevent multiple clicks.\n",
              "      quickchartButtonEl.classList.add('colab-df-spinner');\n",
              "      try {\n",
              "        const charts = await google.colab.kernel.invokeFunction(\n",
              "            'suggestCharts', [key], {});\n",
              "      } catch (error) {\n",
              "        console.error('Error during call to suggestCharts:', error);\n",
              "      }\n",
              "      quickchartButtonEl.classList.remove('colab-df-spinner');\n",
              "      quickchartButtonEl.classList.add('colab-df-quickchart-complete');\n",
              "    }\n",
              "    (() => {\n",
              "      let quickchartButtonEl =\n",
              "        document.querySelector('#df-ee7c81d8-1250-42b2-b7cd-6d25a882960c button');\n",
              "      quickchartButtonEl.style.display =\n",
              "        google.colab.kernel.accessAllowed ? 'block' : 'none';\n",
              "    })();\n",
              "  </script>\n",
              "</div>\n",
              "\n",
              "    </div>\n",
              "  </div>\n"
            ]
          },
          "metadata": {},
          "execution_count": 77
        }
      ]
    },
    {
      "cell_type": "code",
      "source": [
        "# checking the number of rows and columns in the dataframe\n",
        "mail_data.shape"
      ],
      "metadata": {
        "colab": {
          "base_uri": "https://localhost:8080/"
        },
        "id": "5YY9ird19tVP",
        "outputId": "a2eb9353-bc23-4c20-a4c7-ce7bdbe6b386"
      },
      "execution_count": 78,
      "outputs": [
        {
          "output_type": "execute_result",
          "data": {
            "text/plain": [
              "(3861, 2)"
            ]
          },
          "metadata": {},
          "execution_count": 78
        }
      ]
    },
    {
      "cell_type": "markdown",
      "source": [
        "***Label*** Encoding"
      ],
      "metadata": {
        "id": "5osMXfOV9yZu"
      }
    },
    {
      "cell_type": "code",
      "source": [
        "# label scam mail as 0;\n",
        "\n",
        "mail_data.loc[mail_data['Category'] == 'Scam', 'Category',] = 0"
      ],
      "metadata": {
        "id": "76r3uwX_RBz7"
      },
      "execution_count": 87,
      "outputs": []
    },
    {
      "cell_type": "markdown",
      "source": [
        "scam - 0"
      ],
      "metadata": {
        "id": "I31on_E6RLAo"
      }
    },
    {
      "cell_type": "code",
      "source": [
        "# separating the data as texts and label\n",
        "\n",
        "X = mail_data['Body']\n",
        "\n",
        "Y = mail_data['Category']"
      ],
      "metadata": {
        "id": "UR8ydJdSRND2"
      },
      "execution_count": 88,
      "outputs": []
    },
    {
      "cell_type": "code",
      "source": [
        "print(X)"
      ],
      "metadata": {
        "colab": {
          "base_uri": "https://localhost:8080/"
        },
        "id": "fYJa2fq2RVJY",
        "outputId": "dd3909d0-3bc0-4e7d-c3a6-b242d0489966"
      },
      "execution_count": 89,
      "outputs": [
        {
          "output_type": "stream",
          "name": "stdout",
          "text": [
            "0              Return-Path: <james_ngola2002@maktoob.com>\n",
            "1                                  X-Sieve: cmu-sieve 2.0\n",
            "2              Return-Path: <james_ngola2002@maktoob.com>\n",
            "3         Message-Id: <200210310241.g9V2fNm6028281@cs.CU>\n",
            "4       From: \"MR. JAMES NGOLA.\" <james_ngola2002@makt...\n",
            "                              ...                        \n",
            "3856    My name is Mr=2E Jonathan Mokoena=2C the Under...\n",
            "3857    Intergration at the Specialized Technical Comm...\n",
            "3858    Union =28AU=29=2C formerly Organization of Afr...\n",
            "3859    aware of the transformation of the OAU to AU=2...\n",
            "3860    build a new united Africa modelled on the patt...\n",
            "Name: Body, Length: 3861, dtype: object\n"
          ]
        }
      ]
    },
    {
      "cell_type": "code",
      "source": [
        "print(Y)"
      ],
      "metadata": {
        "colab": {
          "base_uri": "https://localhost:8080/"
        },
        "id": "hmoDdHOfRXo0",
        "outputId": "f0341297-f8e1-43de-9350-77b20f9dad65"
      },
      "execution_count": 90,
      "outputs": [
        {
          "output_type": "stream",
          "name": "stdout",
          "text": [
            "0       0\n",
            "1       0\n",
            "2       0\n",
            "3       0\n",
            "4       0\n",
            "       ..\n",
            "3856    0\n",
            "3857    0\n",
            "3858    0\n",
            "3859    0\n",
            "3860    0\n",
            "Name: Category, Length: 3861, dtype: object\n"
          ]
        }
      ]
    },
    {
      "cell_type": "markdown",
      "source": [
        "Splitting the data into training data & test data"
      ],
      "metadata": {
        "id": "KdfMXp43Ra_Y"
      }
    },
    {
      "cell_type": "code",
      "source": [
        "X_train, X_test, Y_train, Y_test = train_test_split(X, Y, test_size=0.2, random_state=3)"
      ],
      "metadata": {
        "id": "7FWCHBaKRgop"
      },
      "execution_count": 91,
      "outputs": []
    },
    {
      "cell_type": "code",
      "source": [
        "print(X.shape)\n",
        "print(X_train.shape)\n",
        "print(X_test.shape)"
      ],
      "metadata": {
        "colab": {
          "base_uri": "https://localhost:8080/"
        },
        "id": "cHrng3M_Rk76",
        "outputId": "9a6fbd4f-0c97-4caa-ced6-ca359faa7404"
      },
      "execution_count": 92,
      "outputs": [
        {
          "output_type": "stream",
          "name": "stdout",
          "text": [
            "(3861,)\n",
            "(3088,)\n",
            "(773,)\n"
          ]
        }
      ]
    },
    {
      "cell_type": "markdown",
      "source": [
        "Feature Extraction"
      ],
      "metadata": {
        "id": "OEpqPEAIRn5q"
      }
    },
    {
      "cell_type": "code",
      "source": [
        "# transform the text data to feature vectors that can be used as input to the Logistic regression\n",
        "\n",
        "feature_extraction = TfidfVectorizer(min_df = 1, stop_words='english', lowercase=True)\n",
        "\n",
        "X_train_features = feature_extraction.fit_transform(X_train)\n",
        "X_test_features = feature_extraction.transform(X_test)\n",
        "\n",
        "# convert Y_train and Y_test values as integers\n",
        "\n",
        "Y_train = Y_train.astype('int')\n",
        "Y_test = Y_test.astype('int')"
      ],
      "metadata": {
        "id": "kcH62yayRqeC"
      },
      "execution_count": 93,
      "outputs": []
    },
    {
      "cell_type": "code",
      "source": [
        "print(X_train)"
      ],
      "metadata": {
        "colab": {
          "base_uri": "https://localhost:8080/"
        },
        "id": "rvYpXjVqSb7Y",
        "outputId": "646dff4d-faa7-42c6-c56c-eb37565d2fc7"
      },
      "execution_count": 94,
      "outputs": [
        {
          "output_type": "stream",
          "name": "stdout",
          "text": [
            "3855                                                     \n",
            "3021    from the Nigeria Chambers of Commerce and Indu...\n",
            "1061    the Government so far is in the tune of $700. ...\n",
            "2527                      Date: Tue, 03 Dec 2002 19:47:42\n",
            "1460    I wait in anticipation of your fullest co-oper...\n",
            "                              ...                        \n",
            "3000       contractor has long been paid,but the contract\n",
            "1667                                                     \n",
            "3321    As I need a next of kin/beneficiary and financ...\n",
            "1688    RE: TRANSFER OF US$21.5 MILLION (TWENTY ONE MI...\n",
            "1898    CHANGED  MOST OF MY HUSBAND'S BILLIONS OF DOLLARS\n",
            "Name: Body, Length: 3088, dtype: object\n"
          ]
        }
      ]
    },
    {
      "cell_type": "code",
      "source": [
        "print(X_train_features)"
      ],
      "metadata": {
        "colab": {
          "base_uri": "https://localhost:8080/"
        },
        "id": "VPZxnbhcSeke",
        "outputId": "6cc1e3d6-60a6-4116-aceb-6caba04b44d0"
      },
      "execution_count": 95,
      "outputs": [
        {
          "output_type": "stream",
          "name": "stdout",
          "text": [
            "  (1, 242)\t0.5071738419994881\n",
            "  (1, 1489)\t0.4533257305544532\n",
            "  (1, 719)\t0.4473832426525597\n",
            "  (1, 647)\t0.48419429306437706\n",
            "  (1, 1888)\t0.3204287701913148\n",
            "  (2, 1795)\t0.32687335528795597\n",
            "  (2, 212)\t0.5461989657160664\n",
            "  (2, 2729)\t0.4862073901777291\n",
            "  (2, 1158)\t0.5008170907333359\n",
            "  (2, 1348)\t0.3280321856456346\n",
            "  (3, 171)\t0.39854824429100505\n",
            "  (3, 178)\t0.4254767637967573\n",
            "  (3, 60)\t0.37531741288207565\n",
            "  (3, 70)\t0.2499619867514085\n",
            "  (3, 886)\t0.3035412606694858\n",
            "  (3, 6)\t0.39179995007419305\n",
            "  (3, 2726)\t0.3553614316364887\n",
            "  (3, 866)\t0.29130468637956086\n",
            "  (4, 2692)\t0.2031725414756447\n",
            "  (4, 679)\t0.3652018565267974\n",
            "  (4, 747)\t0.3171086725918778\n",
            "  (4, 2192)\t0.3652018565267974\n",
            "  (4, 1080)\t0.3474520932804034\n",
            "  (4, 490)\t0.28001710510480055\n",
            "  (4, 1959)\t0.28001710510480055\n",
            "  :\t:\n",
            "  (3085, 2149)\t0.1967585801200048\n",
            "  (3085, 2162)\t0.22009122935675227\n",
            "  (3085, 2316)\t0.4079791479325433\n",
            "  (3085, 833)\t0.18848119107469719\n",
            "  (3085, 1603)\t0.16514854183794975\n",
            "  (3085, 1189)\t0.19098474304292704\n",
            "  (3085, 600)\t0.13283669567065395\n",
            "  (3085, 121)\t0.16853747741101585\n",
            "  (3085, 720)\t0.20842490473837855\n",
            "  (3085, 539)\t0.17681486645632347\n",
            "  (3085, 1604)\t0.22009122935675227\n",
            "  (3085, 1868)\t0.16623443285211398\n",
            "  (3085, 2012)\t0.2136707876120243\n",
            "  (3085, 1477)\t0.20014751569307093\n",
            "  (3085, 1131)\t0.16853747741101585\n",
            "  (3085, 2676)\t0.1630924747336849\n",
            "  (3085, 449)\t0.27547598246099925\n",
            "  (3085, 673)\t0.16853747741101585\n",
            "  (3086, 106)\t0.5085067706292116\n",
            "  (3086, 2693)\t0.3750060244767009\n",
            "  (3086, 1795)\t0.775107312460946\n",
            "  (3087, 553)\t0.5884948962990416\n",
            "  (3087, 649)\t0.5884948962990416\n",
            "  (3087, 1433)\t0.4260655523829914\n",
            "  (3087, 992)\t0.35470503116327085\n"
          ]
        }
      ]
    },
    {
      "cell_type": "markdown",
      "source": [
        "Training the Model"
      ],
      "metadata": {
        "id": "2fdVQY04Sii1"
      }
    },
    {
      "cell_type": "markdown",
      "source": [
        "Logistic Regression"
      ],
      "metadata": {
        "id": "J_3sCHmNSmtU"
      }
    },
    {
      "cell_type": "code",
      "source": [
        "model = LogisticRegression()"
      ],
      "metadata": {
        "id": "LEq1cOl0SpdS"
      },
      "execution_count": 96,
      "outputs": []
    },
    {
      "cell_type": "code",
      "source": [
        "# training the Logistic Regression model with the training data\n",
        "model.fit(X_train_features, Y_train)"
      ],
      "metadata": {
        "id": "rMIwxAnWSzEe"
      },
      "execution_count": null,
      "outputs": []
    },
    {
      "cell_type": "markdown",
      "source": [
        "Evaluating the trained model"
      ],
      "metadata": {
        "id": "66lL84EjS0os"
      }
    },
    {
      "cell_type": "code",
      "source": [
        "# prediction on training data\n",
        "\n",
        "prediction_on_training_data = model.predict(X_train_features)\n",
        "accuracy_on_training_data = accuracy_score(Y_train, prediction_on_training_data)"
      ],
      "metadata": {
        "id": "lbDGnhdLS2M5"
      },
      "execution_count": null,
      "outputs": []
    },
    {
      "cell_type": "code",
      "source": [
        "print('Accuracy on training data : ', accuracy_on_training_data)"
      ],
      "metadata": {
        "id": "Kx7H24eGS9Y_"
      },
      "execution_count": null,
      "outputs": []
    },
    {
      "cell_type": "markdown",
      "source": [
        "Building a Predictive System"
      ],
      "metadata": {
        "id": "nYPCQfMuTKtM"
      }
    },
    {
      "cell_type": "code",
      "source": [
        "input_mail = [\"This business is 100% risk free for you so please treat this matter with utmost confidentiality .If you indicate your interest to assist us please just e-mail me for more Explanation on how we plan to execute the transaction.\"]\n",
        "\n",
        "# convert text to feature vectors\n",
        "input_data_features = feature_extraction.transform(input_mail)\n",
        "\n",
        "# making prediction\n",
        "\n",
        "prediction = model.predict(input_data_features)\n",
        "print(prediction)\n",
        "\n",
        "\n",
        "if (prediction[0]==0):\n",
        "  print('Scam mail')\n",
        "\n",
        "else:\n",
        "  print('Legitimate mail')"
      ],
      "metadata": {
        "id": "y9QkmzIHTLmV"
      },
      "execution_count": null,
      "outputs": []
    }
  ]
}
